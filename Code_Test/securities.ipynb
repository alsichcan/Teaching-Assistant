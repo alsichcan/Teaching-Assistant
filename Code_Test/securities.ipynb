{
 "cells": [
  {
   "cell_type": "code",
   "execution_count": 10,
   "id": "e555dfaa",
   "metadata": {},
   "outputs": [
    {
     "name": "stdout",
     "output_type": "stream",
     "text": [
      "전달인자 => security_info, '수익률', 4 : 수익률 기준으로 내림차순 정렬\n",
      "[{'일자': '19.04.18', '종가': 779000, '거래량': 94462, '수익률': 0.0332}, {'일자': '19.04.26', '종가': 764000, '거래량': 68237, '수익률': 0.0092}, {'일자': '19.04.22', '종가': 774000, '거래량': 58079, '수익률': 0.0052}, {'일자': '19.04.23', '종가': 775000, '거래량': 79128, '수익률': 0.0013}]\n",
      "전달인자 => security_info, '거래량' : 거래량 기준으로 내림차순 정렬\n",
      "[{'일자': '19.04.17', '종가': 754000, '거래량': 165929}, {'일자': '19.04.25', '종가': 757000, '거래량': 111805}, {'일자': '19.04.18', '종가': 779000, '거래량': 94462}, {'일자': '19.04.15', '종가': 785000, '거래량': 79620}, {'일자': '19.04.23', '종가': 775000, '거래량': 79128}]\n",
      "전달인자 => security_info, '시가', 2 : 두 번째 전달인자를 잘못 지정\n",
      "두 번째 전달인자를 잘못 입력하였습니다.\n",
      "-2\n",
      "전달인자 => security_info, '수익률', 11 : 세 번째 전달인자를 잘못 지정\n",
      "세 번째 전달인자를 잘못 입력하였습니다.\n",
      "-3\n"
     ]
    }
   ],
   "source": [
    "import copy\n",
    "\n",
    "security_info = [\n",
    "    {'일자': '19.04.15', '종가': 785000, '거래량': 79620 },\n",
    "    {'일자': '19.04.16', '종가': 785000, '거래량': 68203 },\n",
    "    {'일자': '19.04.17', '종가': 754000, '거래량': 165929 },\n",
    "    {'일자': '19.04.18', '종가': 779000, '거래량': 94462 },\n",
    "    {'일자': '19.04.19', '종가': 770000, '거래량': 76814 },\n",
    "    {'일자': '19.04.22', '종가': 774000, '거래량': 58079 },\n",
    "    {'일자': '19.04.23', '종가': 775000, '거래량': 79128 },\n",
    "    {'일자': '19.04.24', '종가': 771000, '거래량': 61650 },\n",
    "    {'일자': '19.04.25', '종가': 757000, '거래량': 111805 },\n",
    "    {'일자': '19.04.26', '종가': 764000, '거래량': 68237 },\n",
    "]\n",
    "\n",
    "def sort_security(input_data, sort_option, return_size=5):\n",
    "    if sort_option not in ['수익률', '거래량']:\n",
    "        print(\"두 번째 전달인자를 잘못 입력하였습니다.\")\n",
    "        return -2\n",
    "    \n",
    "    if return_size < 1 or return_size > len(input_data):\n",
    "        print(\"세 번째 전달인자를 잘못 입력하였습니다.\")\n",
    "        return -3\n",
    "    \n",
    "    data = copy.deepcopy(input_data)\n",
    "    \n",
    "    if sort_option == '거래량':\n",
    "        return list(sorted(data, key=lambda datum: datum['거래량'], reverse=True))[:return_size]\n",
    "\n",
    "    if sort_option == '수익률':\n",
    "        for i in range(1, len(data)):\n",
    "            data[i]['수익률'] = round(float(data[i]['종가']-data[i-1]['종가'])/data[i-1]['종가'], 4)\n",
    "        return list(sorted(data[1:], key=lambda datum: datum['수익률'], reverse=True))[:return_size]\n",
    "\n",
    "\n",
    "# 테스트 1: 모두 정상적인 전달인자를 입력하여 수익률 기준으로 내림차순 정렬한다.\n",
    "print(\"전달인자 => security_info, '수익률', 4 : 수익률 기준으로 내림차순 정렬\")\n",
    "print(sort_security(security_info, '수익률', 4))\n",
    "\n",
    "# 테스트 2: 세 번째 전달인자는 자동으로 5가 지정되며 거래량 기준으로 내림차순 정렬한다.\n",
    "print(\"전달인자 => security_info, '거래량' : 거래량 기준으로 내림차순 정렬\")\n",
    "print(sort_security(security_info, '거래량'))\n",
    "\n",
    "# 테스트 3: 두 번째 전달인자에 오류가 있는 경우다.\n",
    "print(\"전달인자 => security_info, '시가', 2 : 두 번째 전달인자를 잘못 지정\")\n",
    "print(sort_security(security_info, '시가', 2))\n",
    "\n",
    "# 테스트 4: 세 번째 전달인자에 오류가 있는 경우다.\n",
    "print(\"전달인자 => security_info, '수익률', 11 : 세 번째 전달인자를 잘못 지정\")\n",
    "print(sort_security(security_info, '수익률', 11))\n",
    "    "
   ]
  },
  {
   "cell_type": "code",
   "execution_count": null,
   "id": "513500ec",
   "metadata": {},
   "outputs": [],
   "source": []
  }
 ],
 "metadata": {
  "kernelspec": {
   "display_name": "Python 3",
   "language": "python",
   "name": "python3"
  },
  "language_info": {
   "codemirror_mode": {
    "name": "ipython",
    "version": 3
   },
   "file_extension": ".py",
   "mimetype": "text/x-python",
   "name": "python",
   "nbconvert_exporter": "python",
   "pygments_lexer": "ipython3",
   "version": "3.7.10"
  }
 },
 "nbformat": 4,
 "nbformat_minor": 5
}
