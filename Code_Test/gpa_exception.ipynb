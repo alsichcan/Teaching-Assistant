{
 "cells": [
  {
   "cell_type": "code",
   "execution_count": 2,
   "id": "5139fb30",
   "metadata": {},
   "outputs": [
    {
     "name": "stdout",
     "output_type": "stream",
     "text": [
      "1회: 해당 교과목의 학점 수를 1 이상 4 이하의 자연수로 입력하세요(-1 입력시 종료): 3\n",
      "1회: 평점을 대문자 알파벳으로 입력하세요: A\n",
      "2회: 해당 교과목의 학점 수를 1 이상 4 이하의 자연수로 입력하세요(-1 입력시 종료): 4\n",
      "2회: 평점을 대문자 알파벳으로 입력하세요: B\n",
      "3회: 해당 교과목의 학점 수를 1 이상 4 이하의 자연수로 입력하세요(-1 입력시 종료): 1\n",
      "3회: 평점을 대문자 알파벳으로 입력하세요: B\n",
      "4회: 해당 교과목의 학점 수를 1 이상 4 이하의 자연수로 입력하세요(-1 입력시 종료): 2\n",
      "4회: 평점을 대문자 알파벳으로 입력하세요: A\n",
      "5회: 해당 교과목의 학점 수를 1 이상 4 이하의 자연수로 입력하세요(-1 입력시 종료): -1\n",
      "평균 평점: 3.50\n"
     ]
    }
   ],
   "source": [
    "gpa_list = []\n",
    "gpa_dict = {'A': 4, 'B': 3, 'C': 2, 'D': 1}\n",
    "\n",
    "# Input : (credit, gpa) >> gpa_list  \n",
    "cnt = 1\n",
    "while True:\n",
    "    try:\n",
    "        credit = int(input(\"%d회: 해당 교과목의 학점 수를 1 이상 4 이하의 자연수로 입력하세요(-1 입력시 종료): \" %cnt))\n",
    "    except ValueError:\n",
    "        print(\"정수를 입력해야 합니다.\")\n",
    "    else:\n",
    "        if credit == -1: break\n",
    "        elif credit not in [-1, 1, 2, 3, 4]: print(\"학점 수를 잘못 입력하였습니다.\")\n",
    "        else:\n",
    "            while True:\n",
    "                try:\n",
    "                    gpa = gpa_dict[input(\"%d회: 평점을 대문자 알파벳으로 입력하세요: \" %cnt)]\n",
    "                    gpa_list.append((credit, gpa))\n",
    "                    break\n",
    "                except KeyError:\n",
    "                    print(\"평점을 잘못 입력하였습니다.\")\n",
    "            cnt += 1\n",
    "\n",
    "# Output : average_gpa >> print()\n",
    "weighted_sum = 0\n",
    "credit_sum = 0\n",
    "\n",
    "for credit, gpa in gpa_list:\n",
    "    credit_sum += credit\n",
    "    weighted_sum += gpa * credit\n",
    "\n",
    "try:\n",
    "    print(\"평균 평점: %.2f\" %round(float(weighted_sum)/credit_sum, 2))\n",
    "except ZeroDivisionError:\n",
    "    print(\"입력이 없어 결과를 출력하지 않고 종료합니다.\")"
   ]
  },
  {
   "cell_type": "code",
   "execution_count": null,
   "id": "05251209",
   "metadata": {},
   "outputs": [],
   "source": []
  }
 ],
 "metadata": {
  "kernelspec": {
   "display_name": "Python 3",
   "language": "python",
   "name": "python3"
  },
  "language_info": {
   "codemirror_mode": {
    "name": "ipython",
    "version": 3
   },
   "file_extension": ".py",
   "mimetype": "text/x-python",
   "name": "python",
   "nbconvert_exporter": "python",
   "pygments_lexer": "ipython3",
   "version": "3.7.10"
  }
 },
 "nbformat": 4,
 "nbformat_minor": 5
}
